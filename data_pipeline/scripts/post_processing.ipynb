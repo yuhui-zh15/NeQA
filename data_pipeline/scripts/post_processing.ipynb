{
 "cells": [
  {
   "cell_type": "code",
   "execution_count": 2,
   "metadata": {},
   "outputs": [],
   "source": [
    "import os\n",
    "import json\n",
    "from glob import glob\n",
    "\n",
    "def read_jsonl(path):\n",
    "    ret = []\n",
    "    with open(path) as f:\n",
    "        for line in f:\n",
    "            ret.append(json.loads(line))\n",
    "    return ret\n",
    "\n",
    "os.makedirs(\"sampled_data_rebalanced\", exist_ok=True)\n",
    "\n",
    "for path in glob(\"sampled_data/*.jsonl\"):\n",
    "    questions = read_jsonl(path)\n",
    "    for i, q in enumerate(questions):\n",
    "        if i % 2 == 0 and q[\"answerKey\"] == \"A\":\n",
    "            q[\"question\"][\"choices\"] = q[\"question\"][\"choices\"][::-1]\n",
    "            q[\"answerKey\"] = \"B\"\n",
    "        if i % 2 == 1 and q[\"answerKey\"] == \"B\":\n",
    "            q[\"question\"][\"choices\"] = q[\"question\"][\"choices\"][::-1]\n",
    "            q[\"answerKey\"] = \"A\"\n",
    "        \n",
    "        q[\"question\"][\"choices\"][0][\"label\"] = \"A\"\n",
    "        q[\"question\"][\"choices\"][1][\"label\"] = \"B\"\n",
    "\n",
    "    new_path = path.replace(\"sampled_data\", \"sampled_data_rebalanced\")\n",
    "    with open(new_path, \"w\") as f:\n",
    "        for q in questions:\n",
    "            f.write(json.dumps(q) + \"\\n\")"
   ]
  },
  {
   "cell_type": "code",
   "execution_count": 4,
   "metadata": {},
   "outputs": [
    {
     "name": "stdout",
     "output_type": "stream",
     "text": [
      "     500 sampled_data_rebalanced.jsonl\n"
     ]
    }
   ],
   "source": [
    "!cat sampled_data_rebalanced/*.jsonl > sampled_data_rebalanced.jsonl\n",
    "!wc -l sampled_data_rebalanced.jsonl"
   ]
  },
  {
   "cell_type": "code",
   "execution_count": 8,
   "metadata": {},
   "outputs": [],
   "source": [
    "\"\"\"\n",
    ",prompt,classes,answer_index\n",
    "0,\"Question: {Q}\n",
    "A. {A1}\n",
    "B. {A2}\n",
    "Answer:\",\"[' A', ' B']\",0/1\n",
    "1,\"Question: {Q}\n",
    "A. {A1}\n",
    "B. {A2}\n",
    "Answer:\",\"[' A', ' B']\",0/1\n",
    "\"\"\"\n",
    "import json, csv\n",
    "\n",
    "with open(\"sampled_data_rebalanced.jsonl\") as fin, open(\"sampled_data_rebalanced.csv\", \"w\") as csvfile:\n",
    "    csvwriter = csv.writer(csvfile, delimiter=',')\n",
    "    csvwriter.writerow([\"\", \"prompt\", \"classes\", \"answer_index\"])\n",
    "    for i, line in enumerate(fin):\n",
    "        q = json.loads(line)\n",
    "        Q = q[\"question\"][\"stem\"]\n",
    "        A1 = q[\"question\"][\"choices\"][0][\"text\"]\n",
    "        A2 = q[\"question\"][\"choices\"][1][\"text\"]\n",
    "        assert \"\\\"\" not in Q\n",
    "        prompt = f\"\"\"The following are multiple choice questions (with answers) about common sense.\n",
    "        \n",
    "Question: {Q}\n",
    "A. {A1}\n",
    "B. {A2}\n",
    "Answer:\"\"\"\n",
    "        classes = \"[' A', ' B']\"\n",
    "        answer_index = (0 if q[\"answerKey\"] == \"A\" else 1)\n",
    "        csvwriter.writerow([i, prompt, classes, answer_index])"
   ]
  },
  {
   "cell_type": "code",
   "execution_count": 13,
   "metadata": {},
   "outputs": [],
   "source": [
    "\"\"\"\n",
    ",prompt,classes,answer_index\n",
    "0,\"Question: {Q}\n",
    "A. {A1}\n",
    "B. {A2}\n",
    "Answer:\",\"[' A', ' B']\",0/1\n",
    "1,\"Question: {Q}\n",
    "A. {A1}\n",
    "B. {A2}\n",
    "Answer:\",\"[' A', ' B']\",0/1\n",
    "\"\"\"\n",
    "import json, csv\n",
    "\n",
    "with open(\"sample_not_be_300.jsonl\") as fin, open(\"sample_not_be_300_short.csv\", \"w\") as csvfile:\n",
    "    csvwriter = csv.writer(csvfile, delimiter=',')\n",
    "    csvwriter.writerow([\"\", \"prompt\", \"classes\", \"answer_index\"])\n",
    "    for i, line in enumerate(fin):\n",
    "        q = json.loads(line)\n",
    "        Q = q[\"question\"][\"stem\"]\n",
    "        A1 = q[\"question\"][\"choices\"][0][\"text\"]\n",
    "        A2 = q[\"question\"][\"choices\"][1][\"text\"]\n",
    "        assert \"\\\"\" not in Q and \"\\\"\" not in A1 and \"\\\"\" not in A2\n",
    "        prompt = f\"\"\"The following are multiple choice questions about common sense.\n",
    "\n",
    "Question: {Q}\n",
    "Answer:\"\"\"\n",
    "        classes = f\"[\\\" {A1}\\\", \\\" {A2}\\\"]\"\n",
    "        answer_index = (0 if q[\"answerKey\"] == \"A\" else 1)\n",
    "        csvwriter.writerow([i, prompt, classes, answer_index])"
   ]
  },
  {
   "cell_type": "code",
   "execution_count": null,
   "metadata": {},
   "outputs": [],
   "source": []
  }
 ],
 "metadata": {
  "interpreter": {
   "hash": "b98ce01d6443f9ed8de6b2298de45a5462ef793670bc2920aea9ee85010384a1"
  },
  "kernelspec": {
   "display_name": "Python 3.8.5 ('base')",
   "language": "python",
   "name": "python3"
  },
  "language_info": {
   "codemirror_mode": {
    "name": "ipython",
    "version": 3
   },
   "file_extension": ".py",
   "mimetype": "text/x-python",
   "name": "python",
   "nbconvert_exporter": "python",
   "pygments_lexer": "ipython3",
   "version": "3.8.5"
  },
  "orig_nbformat": 4
 },
 "nbformat": 4,
 "nbformat_minor": 2
}
