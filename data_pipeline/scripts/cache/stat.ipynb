{
 "cells": [
  {
   "cell_type": "code",
   "execution_count": 19,
   "metadata": {},
   "outputs": [],
   "source": [
    "import json\n",
    "\n",
    "cnts = {}\n",
    "data = [json.loads(line) for line in open(\"negatedlama.jsonl\")]\n",
    "\n",
    "for item in data:\n",
    "    key1 = item[\"metadata\"][\"dataset\"]\n",
    "    key2 = item[\"metadata\"][\"subdataset\"].replace(\".jsonl\", \"\").replace(\"_random\", \"\") #  + item[\"metadata\"][\"category\"]\n",
    "    if (key1, key2) not in cnts:\n",
    "        cnts[(key1, key2)] = 0\n",
    "    cnts[(key1, key2)] += 1\n",
    "\n",
    "data = [json.loads(line) for line in open(\"obqa.jsonl\")]\n",
    "for item in data:\n",
    "    key1 = \"OBQA\"\n",
    "    key2 = item[\"negation_rule\"]\n",
    "    if (key1, key2) not in cnts:\n",
    "        cnts[(key1, key2)] = 0\n",
    "    cnts[(key1, key2)] += 1"
   ]
  },
  {
   "cell_type": "code",
   "execution_count": null,
   "metadata": {},
   "outputs": [],
   "source": []
  },
  {
   "cell_type": "code",
   "execution_count": 23,
   "metadata": {},
   "outputs": [
    {
     "name": "stdout",
     "output_type": "stream",
     "text": [
      "ConceptNet\tConceptNet\t150\n",
      "GoogleRE\tplace_of_death\t150\n",
      "GoogleRE\tdate_of_birth\t74\n",
      "GoogleRE\tplace_of_birth\t150\n",
      "SQUAD\tSquad\t100\n",
      "TREx\tP19\t15\n",
      "TREx\tP1303\t15\n",
      "TREx\tP190\t15\n",
      "TREx\tP1376\t15\n",
      "TREx\tP264\t15\n",
      "TREx\tP140\t9\n",
      "TREx\tP39\t15\n",
      "TREx\tP138\t15\n",
      "TREx\tP176\t15\n",
      "TREx\tP103\t15\n",
      "TREx\tP463\t15\n",
      "TREx\tP937\t15\n",
      "TREx\tP36\t15\n",
      "TREx\tP17\t15\n",
      "TREx\tP1412\t15\n",
      "TREx\tP20\t15\n",
      "TREx\tP136\t15\n",
      "TREx\tP159\t15\n",
      "TREx\tP178\t15\n",
      "TREx\tP37\t15\n",
      "TREx\tP101\t15\n",
      "TREx\tP364\t15\n",
      "TREx\tP276\t15\n",
      "TREx\tP30\t15\n",
      "TREx\tP413\t15\n",
      "TREx\tP131\t15\n",
      "TREx\tP527\t15\n",
      "TREx\tP127\t15\n",
      "TREx\tP106\t15\n",
      "TREx\tP31\t15\n",
      "TREx\tP530\t15\n",
      "TREx\tP361\t15\n",
      "TREx\tP108\t15\n",
      "TREx\tP740\t15\n",
      "TREx\tP407\t15\n",
      "TREx\tP47\t15\n",
      "TREx\tP495\t15\n",
      "TREx\tP449\t15\n",
      "TREx\tP279\t15\n",
      "TREx\tP1001\t15\n",
      "OBQA\tnot/be\t100\n",
      "OBQA\tnot/because\t100\n",
      "OBQA\tnot/do\t100\n",
      "OBQA\tnot/modal\t100\n",
      "OBQA\tprompt\t50\n",
      "OBQA\tgold/un-in-\t40\n",
      "OBQA\tmanual/un-in-\t10\n"
     ]
    }
   ],
   "source": [
    "for i,j in cnts.items():\n",
    "    print(f\"{i[0]}\\t{i[1]}\\t{j}\")"
   ]
  },
  {
   "cell_type": "code",
   "execution_count": null,
   "metadata": {},
   "outputs": [],
   "source": []
  }
 ],
 "metadata": {
  "kernelspec": {
   "display_name": "benchmarking",
   "language": "python",
   "name": "python3"
  },
  "language_info": {
   "codemirror_mode": {
    "name": "ipython",
    "version": 3
   },
   "file_extension": ".py",
   "mimetype": "text/x-python",
   "name": "python",
   "nbconvert_exporter": "python",
   "pygments_lexer": "ipython3",
   "version": "3.8.12"
  },
  "orig_nbformat": 4,
  "vscode": {
   "interpreter": {
    "hash": "c40801cbea77c0a79d9078044a3ed1f5c584e36b3aad3c05dab13f6f27ed4dea"
   }
  }
 },
 "nbformat": 4,
 "nbformat_minor": 2
}
